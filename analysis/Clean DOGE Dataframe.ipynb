{
 "cells": [
  {
   "cell_type": "code",
   "execution_count": 1,
   "id": "efd0a376-0e70-4905-b3d9-9f0c78e72309",
   "metadata": {},
   "outputs": [],
   "source": [
    "import pandas as pd"
   ]
  },
  {
   "cell_type": "code",
   "execution_count": 12,
   "id": "5955bc69-baeb-40e4-aeb2-eec6a4d13f15",
   "metadata": {},
   "outputs": [],
   "source": [
    "dat = pd.read_csv(\"full_contracts_dataset.csv\")"
   ]
  },
  {
   "cell_type": "markdown",
   "id": "c165cee7-14aa-4409-a91b-720b4cee8b2a",
   "metadata": {},
   "source": [
    "# Remove Some Rows\n",
    "\n",
    "- if there is no valid url, we cannot use that.\n",
    "- if there is no valid contract, we cannot use that."
   ]
  },
  {
   "cell_type": "code",
   "execution_count": 13,
   "id": "8c9e7d0a-a9c2-491c-a656-4940e1520ab1",
   "metadata": {},
   "outputs": [],
   "source": [
    "no_url = dat[~dat['Valid URL']]\n",
    "no_url\n",
    "\n",
    "dat = dat[dat['Valid URL']]\n",
    "\n",
    "#If no valid record PIID\n",
    "dat.dropna(subset=['PIID'], inplace=True)"
   ]
  },
  {
   "cell_type": "markdown",
   "id": "619011cb-c311-405b-b315-9d3dbe8dd78c",
   "metadata": {},
   "source": [
    "# Handle Contracts where costs are not separated into current/totals\n",
    "\n",
    "If there is only a single column represented, that will be considered the total value."
   ]
  },
  {
   "cell_type": "code",
   "execution_count": 14,
   "id": "f7164893-b29a-4c6a-b462-181c85ecd4be",
   "metadata": {},
   "outputs": [],
   "source": [
    "def handle_missing_totals(current_val, total_val):\n",
    "    if pd.isna(total_val):\n",
    "        return current_val\n",
    "    else:\n",
    "        return total_val\n",
    "\n",
    "dat['totalBaseAndExercisedOptionsValue'] = dat.apply(lambda row: handle_missing_totals(row['baseAndExercisedOptionsValue'], row['totalBaseAndExercisedOptionsValue']), axis=1)\n",
    "dat['totalUltimateContractValue'] = dat.apply(lambda row: handle_missing_totals(row['ultimateContractValue'], row['totalUltimateContractValue']), axis=1)\n",
    "dat['totalObligatedAmount'] = dat.apply(lambda row: handle_missing_totals(row['obligatedAmount'], row['totalObligatedAmount']), axis=1)"
   ]
  },
  {
   "cell_type": "markdown",
   "id": "905a5db1-f57b-49c5-a0c2-520da0c3eb8b",
   "metadata": {},
   "source": [
    "# Replace some NaN values with \"UNKOWN\"\n",
    "\n",
    "In case of categorical values that are important, but no information is recorded, we still need to categorize it under \"UNKNOWN\""
   ]
  },
  {
   "cell_type": "code",
   "execution_count": 15,
   "id": "2441f212-fd32-4cd1-90f9-8632ea67782e",
   "metadata": {},
   "outputs": [],
   "source": [
    "columns_to_replace_with_unknown = [\n",
    "    'vendorState',\n",
    "    'vendorCity',\n",
    "    'vendorZip',\n",
    "    'vendorCongressionalDistrict'\n",
    "]\n",
    "\n",
    "\n",
    "dat[columns_to_replace_with_unknown] = dat[columns_to_replace_with_unknown].fillna('UNKNOWN')"
   ]
  },
  {
   "cell_type": "markdown",
   "id": "761628e2-4ba6-4297-89e2-d7c9d19a8a83",
   "metadata": {},
   "source": [
    "# Convert Dollar figures into usable values\n",
    "\n",
    "They are formatted as strings. For situations where the values are empty or in DOGE's case, say \"SEE FPDS\" those values are set to 0"
   ]
  },
  {
   "cell_type": "code",
   "execution_count": 16,
   "id": "9ee1daa7-9a0d-4461-b7e2-e5b5e5e15b8b",
   "metadata": {},
   "outputs": [],
   "source": [
    "def clean_money(dollars: str) -> str:\n",
    "    if dollars is None or pd.isna(dollars) or str(dollars).strip() == '':\n",
    "        return 0.0\n",
    "\n",
    "    if type(dollars) is float:\n",
    "        return dollars\n",
    "    \n",
    "    dollars = dollars.replace('\\r', '')\n",
    "    dollars = dollars.replace('$', '')\n",
    "    dollars = dollars.replace(',', '')\n",
    "\n",
    "    if dollars == \"SEE FPDS\":\n",
    "        dollars = 0\n",
    "\n",
    "\n",
    "    return float(dollars)\n",
    "\n",
    "dat['Doge Value'] = dat.apply(lambda row: clean_money(row['Doge Value']), axis=1)\n",
    "dat['obligatedAmount'] = dat.apply(lambda row: clean_money(row['obligatedAmount']), axis=1)\n",
    "dat['totalObligatedAmount'] = dat.apply(lambda row: clean_money(row['totalObligatedAmount']), axis=1)\n",
    "dat['baseAndExercisedOptionsValue'] = dat.apply(lambda row: clean_money(row['baseAndExercisedOptionsValue']), axis=1)\n",
    "dat['totalBaseAndExercisedOptionsValue'] = dat.apply(lambda row: clean_money(row['totalBaseAndExercisedOptionsValue']), axis=1)\n",
    "dat['ultimateContractValue'] = dat.apply(lambda row: clean_money(row['ultimateContractValue']), axis=1)\n",
    "dat['totalUltimateContractValue'] = dat.apply(lambda row: clean_money(row['totalUltimateContractValue']), axis=1)\n",
    "dat['feesPaidForUseOfService'] = dat.apply(lambda row: clean_money(row['feesPaidForUseOfService']), axis=1)"
   ]
  },
  {
   "cell_type": "code",
   "execution_count": 18,
   "id": "350aa621-1ea9-4c6e-86b3-0a88b38ef930",
   "metadata": {},
   "outputs": [],
   "source": [
    "dat.to_csv(\"full_contracts_dataset_CLEANED.csv\")"
   ]
  },
  {
   "cell_type": "code",
   "execution_count": null,
   "id": "faf5c0b8-fa60-496b-ab64-817d15fe7e62",
   "metadata": {},
   "outputs": [],
   "source": []
  }
 ],
 "metadata": {
  "kernelspec": {
   "display_name": "Python 3 (ipykernel)",
   "language": "python",
   "name": "python3"
  },
  "language_info": {
   "codemirror_mode": {
    "name": "ipython",
    "version": 3
   },
   "file_extension": ".py",
   "mimetype": "text/x-python",
   "name": "python",
   "nbconvert_exporter": "python",
   "pygments_lexer": "ipython3",
   "version": "3.10.4"
  }
 },
 "nbformat": 4,
 "nbformat_minor": 5
}
