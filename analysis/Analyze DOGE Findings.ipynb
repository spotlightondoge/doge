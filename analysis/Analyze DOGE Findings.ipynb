{
 "cells": [
  {
   "cell_type": "code",
   "execution_count": 1,
   "id": "1edd5976-2eb6-4996-b6d6-491363964fab",
   "metadata": {},
   "outputs": [],
   "source": [
    "import pandas as pd"
   ]
  },
  {
   "cell_type": "code",
   "execution_count": 16,
   "id": "09ab5cfc-aa2e-451f-977c-20ec4297e819",
   "metadata": {},
   "outputs": [],
   "source": [
    "dat = pd.read_csv(\"full_contracts_dataset.csv\")"
   ]
  },
  {
   "cell_type": "markdown",
   "id": "226a8fe1-46d2-4b00-b6d7-9bd16f8eed9b",
   "metadata": {},
   "source": [
    "# Clean Data\n",
    "\n",
    "- remove rows\n",
    "    - If no valid URL\n",
    "    - If no valid record PIID (ex https://www.fpds.gov/common/jsp/LaunchWebPage.jsp?command=execute&requestid=239771231&version=1.5)\n",
    "- put all dollar figures into numbers  \n",
    "    - Doge Value\n",
    "        - How to handle \"SEE FPDS\"? -> Set to $0\n",
    "    - obligatedAmount  \n",
    "    - totalObligatedAmount  \n",
    "    - baseAndExercisedOptionsValue  \n",
    "    - totalBaseAndExercisedOptionsValue  \n",
    "    - ultimateContractValue  \n",
    "    - feesPaidForUseOfService  \n",
    "\n",
    "- handle records with missing totals  \n",
    "    - Replace the NaN total values with the current values  \n",
    "        - ultimateContractValue -> totalUltimateContractValue  \n",
    "        - baseAndExercisedOptionsValue -> totalBaseAndExercisedOptionsValue  \n",
    "        - obligatedAmount -> totalObligatedAmount  \n",
    "- Convert dates to datetime\n",
    "    - displayLastModifiedDate\n",
    "More to come"
   ]
  },
  {
   "cell_type": "code",
   "execution_count": 17,
   "id": "fe7e5c3a-303c-4f3a-b1cc-4cd14672edf5",
   "metadata": {},
   "outputs": [
    {
     "data": {
      "text/html": [
       "<div>\n",
       "<style scoped>\n",
       "    .dataframe tbody tr th:only-of-type {\n",
       "        vertical-align: middle;\n",
       "    }\n",
       "\n",
       "    .dataframe tbody tr th {\n",
       "        vertical-align: top;\n",
       "    }\n",
       "\n",
       "    .dataframe thead th {\n",
       "        text-align: right;\n",
       "    }\n",
       "</style>\n",
       "<table border=\"1\" class=\"dataframe\">\n",
       "  <thead>\n",
       "    <tr style=\"text-align: right;\">\n",
       "      <th></th>\n",
       "      <th>Doge Agency</th>\n",
       "      <th>Doge Upload Date</th>\n",
       "      <th>Contract URL</th>\n",
       "      <th>Doge Value</th>\n",
       "      <th>Doge Desc</th>\n",
       "      <th>Valid URL</th>\n",
       "      <th>agencyID</th>\n",
       "      <th>PIID</th>\n",
       "      <th>modNumber</th>\n",
       "      <th>transactionNumber</th>\n",
       "      <th>...</th>\n",
       "      <th>emailAddress</th>\n",
       "      <th>individualOrderLimit</th>\n",
       "      <th>fixedFeeValue</th>\n",
       "      <th>feeRangeLowerValue</th>\n",
       "      <th>feeRangeUpperValue</th>\n",
       "      <th>orderingProcedure</th>\n",
       "      <th>displayIDVType</th>\n",
       "      <th>typeOfIDC</th>\n",
       "      <th>multipleOrSingleAwardIDC</th>\n",
       "      <th>whoCanUse</th>\n",
       "    </tr>\n",
       "  </thead>\n",
       "  <tbody>\n",
       "    <tr>\n",
       "      <th>0</th>\n",
       "      <td>COMMODITY FUTURES TRADING COMMISSION</td>\n",
       "      <td>2/11/2025</td>\n",
       "      <td>https://www.fpds.gov/ezsearch/jsp/viewLinkCont...</td>\n",
       "      <td>$0</td>\n",
       "      <td>RENEW WEST PRINT SUBSCRIPTIONS FOR VARIOUS LEG...</td>\n",
       "      <td>True</td>\n",
       "      <td>9507</td>\n",
       "      <td>9523ZY19F0048</td>\n",
       "      <td>P00001</td>\n",
       "      <td>0.0</td>\n",
       "      <td>...</td>\n",
       "      <td>NaN</td>\n",
       "      <td>NaN</td>\n",
       "      <td>NaN</td>\n",
       "      <td>NaN</td>\n",
       "      <td>NaN</td>\n",
       "      <td>NaN</td>\n",
       "      <td>NaN</td>\n",
       "      <td>NaN</td>\n",
       "      <td>NaN</td>\n",
       "      <td>NaN</td>\n",
       "    </tr>\n",
       "    <tr>\n",
       "      <th>1</th>\n",
       "      <td>COMMODITY FUTURES TRADING COMMISSION</td>\n",
       "      <td>2/13/2025</td>\n",
       "      <td>https://www.fpds.gov/ezsearch/jsp/viewLinkCont...</td>\n",
       "      <td>$60,373</td>\n",
       "      <td>ANNUAL SUBSCRIPTION TO POLITICO PRO</td>\n",
       "      <td>True</td>\n",
       "      <td>9507</td>\n",
       "      <td>9523ZY21P0041</td>\n",
       "      <td>P00003</td>\n",
       "      <td>0.0</td>\n",
       "      <td>...</td>\n",
       "      <td>NaN</td>\n",
       "      <td>NaN</td>\n",
       "      <td>NaN</td>\n",
       "      <td>NaN</td>\n",
       "      <td>NaN</td>\n",
       "      <td>NaN</td>\n",
       "      <td>NaN</td>\n",
       "      <td>NaN</td>\n",
       "      <td>NaN</td>\n",
       "      <td>NaN</td>\n",
       "    </tr>\n",
       "    <tr>\n",
       "      <th>2</th>\n",
       "      <td>CONSUMER FINANCIAL PROTECTION BUREAU</td>\n",
       "      <td>2/11/2025</td>\n",
       "      <td>https://www.fpds.gov/ezsearch/jsp/viewLinkCont...</td>\n",
       "      <td>$148,350</td>\n",
       "      <td>BLOOMBERG TERMINALS</td>\n",
       "      <td>True</td>\n",
       "      <td>955F</td>\n",
       "      <td>9531CB24C0024</td>\n",
       "      <td>P00001</td>\n",
       "      <td>0.0</td>\n",
       "      <td>...</td>\n",
       "      <td>NaN</td>\n",
       "      <td>NaN</td>\n",
       "      <td>NaN</td>\n",
       "      <td>NaN</td>\n",
       "      <td>NaN</td>\n",
       "      <td>NaN</td>\n",
       "      <td>NaN</td>\n",
       "      <td>NaN</td>\n",
       "      <td>NaN</td>\n",
       "      <td>NaN</td>\n",
       "    </tr>\n",
       "    <tr>\n",
       "      <th>3</th>\n",
       "      <td>CONSUMER FINANCIAL PROTECTION BUREAU</td>\n",
       "      <td>2/11/2025</td>\n",
       "      <td>https://www.fpds.gov/ezsearch/jsp/viewLinkCont...</td>\n",
       "      <td>$584,172</td>\n",
       "      <td>BLOOMBERG GOVERNMENT SUBSCRIPTIONS</td>\n",
       "      <td>True</td>\n",
       "      <td>955F</td>\n",
       "      <td>9531CB23F0100</td>\n",
       "      <td>P00002</td>\n",
       "      <td>0.0</td>\n",
       "      <td>...</td>\n",
       "      <td>NaN</td>\n",
       "      <td>NaN</td>\n",
       "      <td>NaN</td>\n",
       "      <td>NaN</td>\n",
       "      <td>NaN</td>\n",
       "      <td>NaN</td>\n",
       "      <td>NaN</td>\n",
       "      <td>NaN</td>\n",
       "      <td>NaN</td>\n",
       "      <td>NaN</td>\n",
       "    </tr>\n",
       "    <tr>\n",
       "      <th>4</th>\n",
       "      <td>CONSUMER FINANCIAL PROTECTION BUREAU</td>\n",
       "      <td>2/11/2025</td>\n",
       "      <td>https://www.fpds.gov/ezsearch/jsp/viewLinkCont...</td>\n",
       "      <td>$522,660</td>\n",
       "      <td>POLITICO PRO</td>\n",
       "      <td>True</td>\n",
       "      <td>955F</td>\n",
       "      <td>9531CB25P0012</td>\n",
       "      <td>P00001</td>\n",
       "      <td>0.0</td>\n",
       "      <td>...</td>\n",
       "      <td>NaN</td>\n",
       "      <td>NaN</td>\n",
       "      <td>NaN</td>\n",
       "      <td>NaN</td>\n",
       "      <td>NaN</td>\n",
       "      <td>NaN</td>\n",
       "      <td>NaN</td>\n",
       "      <td>NaN</td>\n",
       "      <td>NaN</td>\n",
       "      <td>NaN</td>\n",
       "    </tr>\n",
       "  </tbody>\n",
       "</table>\n",
       "<p>5 rows × 159 columns</p>\n",
       "</div>"
      ],
      "text/plain": [
       "                            Doge Agency Doge Upload Date  \\\n",
       "0  COMMODITY FUTURES TRADING COMMISSION        2/11/2025   \n",
       "1  COMMODITY FUTURES TRADING COMMISSION        2/13/2025   \n",
       "2  CONSUMER FINANCIAL PROTECTION BUREAU        2/11/2025   \n",
       "3  CONSUMER FINANCIAL PROTECTION BUREAU        2/11/2025   \n",
       "4  CONSUMER FINANCIAL PROTECTION BUREAU        2/11/2025   \n",
       "\n",
       "                                        Contract URL Doge Value  \\\n",
       "0  https://www.fpds.gov/ezsearch/jsp/viewLinkCont...         $0   \n",
       "1  https://www.fpds.gov/ezsearch/jsp/viewLinkCont...    $60,373   \n",
       "2  https://www.fpds.gov/ezsearch/jsp/viewLinkCont...   $148,350   \n",
       "3  https://www.fpds.gov/ezsearch/jsp/viewLinkCont...   $584,172   \n",
       "4  https://www.fpds.gov/ezsearch/jsp/viewLinkCont...   $522,660   \n",
       "\n",
       "                                           Doge Desc  Valid URL agencyID  \\\n",
       "0  RENEW WEST PRINT SUBSCRIPTIONS FOR VARIOUS LEG...       True     9507   \n",
       "1                ANNUAL SUBSCRIPTION TO POLITICO PRO       True     9507   \n",
       "2                                BLOOMBERG TERMINALS       True     955F   \n",
       "3                 BLOOMBERG GOVERNMENT SUBSCRIPTIONS       True     955F   \n",
       "4                                       POLITICO PRO       True     955F   \n",
       "\n",
       "            PIID modNumber  transactionNumber  ... emailAddress  \\\n",
       "0  9523ZY19F0048    P00001                0.0  ...          NaN   \n",
       "1  9523ZY21P0041    P00003                0.0  ...          NaN   \n",
       "2  9531CB24C0024    P00001                0.0  ...          NaN   \n",
       "3  9531CB23F0100    P00002                0.0  ...          NaN   \n",
       "4  9531CB25P0012    P00001                0.0  ...          NaN   \n",
       "\n",
       "  individualOrderLimit fixedFeeValue feeRangeLowerValue feeRangeUpperValue  \\\n",
       "0                  NaN           NaN                NaN                NaN   \n",
       "1                  NaN           NaN                NaN                NaN   \n",
       "2                  NaN           NaN                NaN                NaN   \n",
       "3                  NaN           NaN                NaN                NaN   \n",
       "4                  NaN           NaN                NaN                NaN   \n",
       "\n",
       "   orderingProcedure  displayIDVType  typeOfIDC multipleOrSingleAwardIDC  \\\n",
       "0                NaN             NaN        NaN                      NaN   \n",
       "1                NaN             NaN        NaN                      NaN   \n",
       "2                NaN             NaN        NaN                      NaN   \n",
       "3                NaN             NaN        NaN                      NaN   \n",
       "4                NaN             NaN        NaN                      NaN   \n",
       "\n",
       "  whoCanUse  \n",
       "0       NaN  \n",
       "1       NaN  \n",
       "2       NaN  \n",
       "3       NaN  \n",
       "4       NaN  \n",
       "\n",
       "[5 rows x 159 columns]"
      ]
     },
     "execution_count": 17,
     "metadata": {},
     "output_type": "execute_result"
    }
   ],
   "source": [
    "#Remove/replace x and y columns\n",
    "\n",
    "dat.head()"
   ]
  },
  {
   "cell_type": "code",
   "execution_count": 19,
   "id": "f70cb830-3b05-40e6-806b-6a8f15b0939a",
   "metadata": {},
   "outputs": [],
   "source": [
    "no_url = dat[~dat['Valid URL']]\n",
    "no_url\n",
    "\n",
    "dat = dat[dat['Valid URL']]\n",
    "\n",
    "#If no valid record PIID\n",
    "dat.dropna(subset=['PIID'], inplace=True)"
   ]
  },
  {
   "cell_type": "code",
   "execution_count": 20,
   "id": "82eda5ad-def3-4d9a-aa03-d978550f4c27",
   "metadata": {},
   "outputs": [],
   "source": [
    "def handle_missing_totals(current_val, total_val):\n",
    "    if pd.isna(total_val):\n",
    "        return current_val\n",
    "    else:\n",
    "        return total_val\n",
    "\n",
    "dat['totalBaseAndExercisedOptionsValue'] = dat.apply(lambda row: handle_missing_totals(row['baseAndExercisedOptionsValue'], row['totalBaseAndExercisedOptionsValue']), axis=1)\n",
    "dat['totalUltimateContractValue'] = dat.apply(lambda row: handle_missing_totals(row['ultimateContractValue'], row['totalUltimateContractValue']), axis=1)\n",
    "dat['totalObligatedAmount'] = dat.apply(lambda row: handle_missing_totals(row['obligatedAmount'], row['totalObligatedAmount']), axis=1)"
   ]
  },
  {
   "cell_type": "code",
   "execution_count": 21,
   "id": "aae5bfc7-f008-4c0a-b3a4-c89df9901ac3",
   "metadata": {},
   "outputs": [],
   "source": [
    "dat[['vendorState', 'vendorCity', 'vendorZip', 'vendorCongressionalDistrict']] = dat[['vendorState', 'vendorCity', 'vendorZip', 'vendorCongressionalDistrict']].fillna('UNKNOWN')"
   ]
  },
  {
   "cell_type": "code",
   "execution_count": 22,
   "id": "82159233-a1cf-47d2-ba8e-be716818358f",
   "metadata": {},
   "outputs": [],
   "source": [
    "def clean_money(dollars: str) -> str:\n",
    "    if dollars is None or pd.isna(dollars) or str(dollars).strip() == '':\n",
    "        return 0.0\n",
    "\n",
    "    if type(dollars) is float:\n",
    "        return dollars\n",
    "    \n",
    "    dollars = dollars.replace('\\r', '')\n",
    "    dollars = dollars.replace('$', '')\n",
    "    dollars = dollars.replace(',', '')\n",
    "\n",
    "    if dollars == \"SEE FPDS\":\n",
    "        dollars = 0\n",
    "\n",
    "\n",
    "    return float(dollars)\n",
    "\n",
    "dat['Doge Value'] = dat.apply(lambda row: clean_money(row['Doge Value']), axis=1)\n",
    "dat['obligatedAmount'] = dat.apply(lambda row: clean_money(row['obligatedAmount']), axis=1)\n",
    "dat['totalObligatedAmount'] = dat.apply(lambda row: clean_money(row['totalObligatedAmount']), axis=1)\n",
    "dat['baseAndExercisedOptionsValue'] = dat.apply(lambda row: clean_money(row['baseAndExercisedOptionsValue']), axis=1)\n",
    "dat['totalBaseAndExercisedOptionsValue'] = dat.apply(lambda row: clean_money(row['totalBaseAndExercisedOptionsValue']), axis=1)\n",
    "dat['ultimateContractValue'] = dat.apply(lambda row: clean_money(row['ultimateContractValue']), axis=1)\n",
    "dat['totalUltimateContractValue'] = dat.apply(lambda row: clean_money(row['totalUltimateContractValue']), axis=1)\n",
    "dat['feesPaidForUseOfService'] = dat.apply(lambda row: clean_money(row['feesPaidForUseOfService']), axis=1)"
   ]
  },
  {
   "cell_type": "code",
   "execution_count": 26,
   "id": "db089689-9265-41e7-8154-843999e58a1b",
   "metadata": {},
   "outputs": [],
   "source": []
  },
  {
   "cell_type": "code",
   "execution_count": 8,
   "id": "74531117-56f1-4c4e-8e1d-418ac5140746",
   "metadata": {},
   "outputs": [],
   "source": [
    "sum_rows = []\n",
    "\n",
    "def format_as_money(amount: float) -> str:\n",
    "    \"\"\"Formats a float as a string representing money, \n",
    "    including commas and two decimal places.\"\"\"\n",
    "    return \"${:,.2f}\".format(amount)"
   ]
  },
  {
   "cell_type": "markdown",
   "id": "b4b1d3fa-6dd8-498e-b369-79129192ff3f",
   "metadata": {},
   "source": [
    "## How much money does DOGE claim to have saved in contracts on doge.gov?\n",
    "\n",
    "What is the sum of the \"Value\" column on the doge \"savings\" tab?"
   ]
  },
  {
   "cell_type": "code",
   "execution_count": 30,
   "id": "7b400f78-d5b6-4e78-9f73-e494ab846fe8",
   "metadata": {},
   "outputs": [],
   "source": [
    "sum_rows.append({\n",
    "    \"Question\": \"How much money does DOGE claim to have saved in cancelled contracts?\",\n",
    "    \"Answer\": format_as_money(sum(dat['Doge Value']))\n",
    "})"
   ]
  },
  {
   "cell_type": "markdown",
   "id": "37104419-adbc-4c27-b003-ebb52c857931",
   "metadata": {},
   "source": [
    "## How much money was actually saved?\n",
    "We want to take the ultimate total potential contract value, and subtract all exercised options (money already spent on the contract).\n",
    "This would reflect the maximum potential savings after termination of a contract in progress.\n",
    "\n",
    "(totalUltimateContractValue - totalBaseAndExercisedOptionsValue)\n",
    "\n",
    "\"Being as generous as possible, this is the most that could be saved. Why is your number more than doubled?\""
   ]
  },
  {
   "cell_type": "code",
   "execution_count": 31,
   "id": "100db6ce-9ee5-4d96-a340-18d01501c14f",
   "metadata": {},
   "outputs": [],
   "source": [
    "def calculate_savings(row):\n",
    "    tcv = row['totalUltimateContractValue']\n",
    "    spent = row['totalBaseAndExercisedOptionsValue']\n",
    "    return tcv - spent\n",
    "\n",
    "dat['maximumSavingsRealized'] = dat.apply(lambda row: calculate_savings(row), axis=1)\n",
    "\n",
    "\n",
    "sum_rows.append({\n",
    "    \"Question\": \"How much money was actually saved?\",\n",
    "    \"Answer\": format_as_money(sum(dat['maximumSavingsRealized']))\n",
    "})"
   ]
  },
  {
   "cell_type": "markdown",
   "id": "b8f47d3d-04d1-4472-84de-540e198a6961",
   "metadata": {},
   "source": [
    "## How much money was wasted by canceling contracts early?\n",
    "\n",
    "For in progress contracts that did not complete, how much money was already invested that the government will not realize the benefit of?  \n",
    "i.e. sunk costs.  \n",
    "\n",
    "We want to look at the total exercised options, and estimate overhead costs for contract procurement.  \n",
    "\n",
    "DISCLAIMER: This assumes that the intent behind the award requires the contract to be executed completely/fully funded in order to be realized. There may be circumstances where some value was still salvaged, however this granularity of information cannot be determined with our level of access."
   ]
  },
  {
   "cell_type": "code",
   "execution_count": 32,
   "id": "032bc032-dc0f-4708-8d0c-b28386e9bc39",
   "metadata": {},
   "outputs": [],
   "source": [
    "def calculate_sunk_costs(row):\n",
    "    ESTIMATED_OVERHEAD_COSTS = 0\n",
    "    sunk_cost = row['totalBaseAndExercisedOptionsValue']\n",
    "    return sunk_cost + ESTIMATED_OVERHEAD_COSTS\n",
    "\n",
    "dat['sunkCosts'] = dat.apply(lambda row: calculate_sunk_costs(row), axis=1)\n",
    "sum(dat['sunkCosts'])\n",
    "\n",
    "sum_rows.append({\n",
    "    \"Question\": \"How much money was wasted by terminating contracts early?\",\n",
    "    \"Answer\": format_as_money(sum(dat['sunkCosts']))\n",
    "})"
   ]
  },
  {
   "cell_type": "markdown",
   "id": "e8c5913d-139a-482c-8527-eb04b238cb1e",
   "metadata": {},
   "source": [
    "## How much money is each state losing?\n",
    "\n",
    "To determine this, we'll want to know, by state, how much potential spending is being withheld. This will use the derived column 'maximumSavingsRealized' to indicate funding that is no longer flowing to companies in the respective states.  \n",
    "\n",
    "We will create a smaller dataframe with just the state code (vendor and savings, and groupby the state"
   ]
  },
  {
   "cell_type": "code",
   "execution_count": 33,
   "id": "36a78fe9-dcf9-460e-8341-cd6b9c306e68",
   "metadata": {},
   "outputs": [],
   "source": [
    "only_state = dat[['PIID', 'vendorState', 'maximumSavingsRealized']]\n",
    "BY_STATE = only_state.groupby('vendorState', as_index=False)['maximumSavingsRealized'].sum()\n",
    "BY_STATE = BY_STATE.sort_values(by='maximumSavingsRealized', ascending=False)\n",
    "BY_STATE['maximumSavingsRealized'] = BY_STATE.apply(lambda row: format_as_money(row['maximumSavingsRealized']), axis=1)\n",
    "BY_STATE.rename(columns={'maximumSavingsRealized': 'Money Lost'}, inplace=True)\n",
    "\n",
    "sum_rows.append({\n",
    "    \"Question\": \"How much money is each state losing?\",\n",
    "    \"Answer\": \"See Sheet 2\"\n",
    "})"
   ]
  },
  {
   "cell_type": "markdown",
   "id": "62139639-4e9e-4165-9a93-48480d545852",
   "metadata": {},
   "source": [
    "## How much money is each district losing?\n",
    "\n",
    "Again, same methodology, just with congressional district."
   ]
  },
  {
   "cell_type": "code",
   "execution_count": 34,
   "id": "cdbee7e7-744c-433f-a779-6ef4fe5e88bf",
   "metadata": {},
   "outputs": [],
   "source": [
    "#vendorCongressionalDistrict\n",
    "only_district = dat[['PIID', 'vendorCongressionalDistrict', 'maximumSavingsRealized']]\n",
    "BY_DISTRICT = only_district.groupby('vendorCongressionalDistrict', as_index=False)['maximumSavingsRealized'].sum()\n",
    "BY_DISTRICT = BY_DISTRICT.sort_values(by='maximumSavingsRealized', ascending=False)\n",
    "BY_DISTRICT['maximumSavingsRealized'] = BY_DISTRICT.apply(lambda row: format_as_money(row['maximumSavingsRealized']), axis=1)\n",
    "BY_DISTRICT.rename(columns={'maximumSavingsRealized': 'Money Lost'}, inplace=True)\n",
    "sum_rows.append({\n",
    "    \"Question\": \"How much money is each district losing?\",\n",
    "    \"Answer\": \"See Sheet 3\"\n",
    "})"
   ]
  },
  {
   "cell_type": "markdown",
   "id": "a68f0141-4de3-4a7f-aa6d-00c4ec62153a",
   "metadata": {},
   "source": [
    "## How much money is each company losing?\n",
    "\n",
    "Similar methodology as by state, just grouped by company name."
   ]
  },
  {
   "cell_type": "code",
   "execution_count": 35,
   "id": "df7de4a1-1e6c-4d81-9bc6-524c98062548",
   "metadata": {},
   "outputs": [],
   "source": [
    "only_company = dat[['PIID', 'vendorName', 'maximumSavingsRealized']]\n",
    "BY_COMPANY = only_company.groupby('vendorName', as_index=False)['maximumSavingsRealized'].sum()\n",
    "BY_COMPANY = BY_COMPANY.sort_values(by='maximumSavingsRealized', ascending=False)\n",
    "BY_COMPANY['maximumSavingsRealized'] = BY_COMPANY.apply(lambda row: format_as_money(row['maximumSavingsRealized']), axis=1)\n",
    "BY_COMPANY.rename(columns={'maximumSavingsRealized': 'Money Lost'}, inplace=True)\n",
    "sum_rows.append({\n",
    "    \"Question\": \"How much money is each company losing?\",\n",
    "    \"Answer\": \"See Sheet 4\"\n",
    "})"
   ]
  },
  {
   "cell_type": "markdown",
   "id": "71434489-b72d-449c-babb-6334b4a0b9e2",
   "metadata": {},
   "source": [
    "## How many private sector jobs will be lost? (estimate)\n",
    "\n",
    "Take the average median salary of each state (provided by sofi) to calculate the "
   ]
  },
  {
   "cell_type": "code",
   "execution_count": null,
   "id": "97e9595a-38e9-49f4-921c-53fb41abac45",
   "metadata": {},
   "outputs": [],
   "source": []
  },
  {
   "cell_type": "code",
   "execution_count": null,
   "id": "92ec7509-46f9-4f0c-8a2f-cdaf666781e4",
   "metadata": {},
   "outputs": [],
   "source": []
  },
  {
   "cell_type": "code",
   "execution_count": null,
   "id": "e6fdce0f-875f-4ca5-8a5d-7ecfe46dd8fd",
   "metadata": {},
   "outputs": [],
   "source": []
  },
  {
   "cell_type": "code",
   "execution_count": null,
   "id": "095c430a-6004-46a2-9fa8-fa2412dd515e",
   "metadata": {},
   "outputs": [],
   "source": []
  },
  {
   "cell_type": "code",
   "execution_count": null,
   "id": "7fca12b4-924f-402a-a16a-534080999aac",
   "metadata": {},
   "outputs": [],
   "source": []
  },
  {
   "cell_type": "code",
   "execution_count": null,
   "id": "f67ce46f-0764-4ec5-8939-4fe77a01344b",
   "metadata": {},
   "outputs": [],
   "source": []
  },
  {
   "cell_type": "code",
   "execution_count": null,
   "id": "681116fe-e799-4191-b18a-ad975ae4a0d2",
   "metadata": {},
   "outputs": [],
   "source": []
  },
  {
   "cell_type": "markdown",
   "id": "c991a09e-f211-43cd-ac8e-af4c5bc4c668",
   "metadata": {},
   "source": [
    "## Summarize findings\n",
    "\n",
    "Put it all together in one sheet."
   ]
  },
  {
   "cell_type": "code",
   "execution_count": 36,
   "id": "9842085d-69b9-4087-900a-046ac189e844",
   "metadata": {},
   "outputs": [
    {
     "name": "stderr",
     "output_type": "stream",
     "text": [
      "C:\\Users\\Aaron\\AppData\\Local\\Temp\\ipykernel_43884\\1343483627.py:5: FutureWarning: Starting with pandas version 3.0 all arguments of to_excel except for the argument 'excel_writer' will be keyword-only.\n",
      "  df.to_excel(writer,'Sheet %s' % (n + 1), index=False)\n"
     ]
    }
   ],
   "source": [
    "from pandas import ExcelWriter\n",
    "def save_xls(list_dfs, xls_path):\n",
    "    with ExcelWriter(xls_path) as writer:\n",
    "        for n, df in enumerate(list_dfs):\n",
    "            df.to_excel(writer,'Sheet %s' % (n + 1), index=False)\n",
    "\n",
    "QUESTIONS = pd.DataFrame(sum_rows)\n",
    "save_xls([QUESTIONS, BY_STATE, BY_DISTRICT, BY_COMPANY], \"summary.xlsx\")"
   ]
  },
  {
   "cell_type": "code",
   "execution_count": null,
   "id": "1a74605f-7dc5-4756-902c-2f78ab6941df",
   "metadata": {},
   "outputs": [],
   "source": []
  }
 ],
 "metadata": {
  "kernelspec": {
   "display_name": "Python 3 (ipykernel)",
   "language": "python",
   "name": "python3"
  },
  "language_info": {
   "codemirror_mode": {
    "name": "ipython",
    "version": 3
   },
   "file_extension": ".py",
   "mimetype": "text/x-python",
   "name": "python",
   "nbconvert_exporter": "python",
   "pygments_lexer": "ipython3",
   "version": "3.10.4"
  }
 },
 "nbformat": 4,
 "nbformat_minor": 5
}
