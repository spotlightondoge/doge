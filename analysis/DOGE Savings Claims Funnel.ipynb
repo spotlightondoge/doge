{
 "cells": [
  {
   "cell_type": "code",
   "execution_count": 2,
   "id": "6ea6502a-7a92-4db3-b3f0-ad00ab4b95b6",
   "metadata": {},
   "outputs": [],
   "source": [
    "import pandas as pd"
   ]
  },
  {
   "cell_type": "code",
   "execution_count": 9,
   "id": "7150dd42-372f-4786-bd28-2b3a3e8e2cd1",
   "metadata": {},
   "outputs": [],
   "source": [
    "dat = pd.read_csv(\"full_contracts_dataset_CLEANED.csv\")"
   ]
  },
  {
   "cell_type": "code",
   "execution_count": 10,
   "id": "6c1902de-2198-4d3d-9c14-d8e878277f68",
   "metadata": {},
   "outputs": [
    {
     "data": {
      "text/html": [
       "<div>\n",
       "<style scoped>\n",
       "    .dataframe tbody tr th:only-of-type {\n",
       "        vertical-align: middle;\n",
       "    }\n",
       "\n",
       "    .dataframe tbody tr th {\n",
       "        vertical-align: top;\n",
       "    }\n",
       "\n",
       "    .dataframe thead th {\n",
       "        text-align: right;\n",
       "    }\n",
       "</style>\n",
       "<table border=\"1\" class=\"dataframe\">\n",
       "  <thead>\n",
       "    <tr style=\"text-align: right;\">\n",
       "      <th></th>\n",
       "      <th>Unnamed: 0</th>\n",
       "      <th>Doge Agency</th>\n",
       "      <th>Doge Upload Date</th>\n",
       "      <th>Contract URL</th>\n",
       "      <th>Doge Value</th>\n",
       "      <th>Doge Desc</th>\n",
       "      <th>Valid URL</th>\n",
       "      <th>agencyID</th>\n",
       "      <th>PIID</th>\n",
       "      <th>modNumber</th>\n",
       "      <th>...</th>\n",
       "      <th>emailAddress</th>\n",
       "      <th>individualOrderLimit</th>\n",
       "      <th>fixedFeeValue</th>\n",
       "      <th>feeRangeLowerValue</th>\n",
       "      <th>feeRangeUpperValue</th>\n",
       "      <th>orderingProcedure</th>\n",
       "      <th>displayIDVType</th>\n",
       "      <th>typeOfIDC</th>\n",
       "      <th>multipleOrSingleAwardIDC</th>\n",
       "      <th>whoCanUse</th>\n",
       "    </tr>\n",
       "  </thead>\n",
       "  <tbody>\n",
       "    <tr>\n",
       "      <th>0</th>\n",
       "      <td>0</td>\n",
       "      <td>COMMODITY FUTURES TRADING COMMISSION</td>\n",
       "      <td>2/11/2025</td>\n",
       "      <td>https://www.fpds.gov/ezsearch/jsp/viewLinkCont...</td>\n",
       "      <td>0.0</td>\n",
       "      <td>RENEW WEST PRINT SUBSCRIPTIONS FOR VARIOUS LEG...</td>\n",
       "      <td>True</td>\n",
       "      <td>9507</td>\n",
       "      <td>9523ZY19F0048</td>\n",
       "      <td>P00001</td>\n",
       "      <td>...</td>\n",
       "      <td>NaN</td>\n",
       "      <td>NaN</td>\n",
       "      <td>NaN</td>\n",
       "      <td>NaN</td>\n",
       "      <td>NaN</td>\n",
       "      <td>NaN</td>\n",
       "      <td>NaN</td>\n",
       "      <td>NaN</td>\n",
       "      <td>NaN</td>\n",
       "      <td>NaN</td>\n",
       "    </tr>\n",
       "    <tr>\n",
       "      <th>1</th>\n",
       "      <td>1</td>\n",
       "      <td>COMMODITY FUTURES TRADING COMMISSION</td>\n",
       "      <td>2/13/2025</td>\n",
       "      <td>https://www.fpds.gov/ezsearch/jsp/viewLinkCont...</td>\n",
       "      <td>60373.0</td>\n",
       "      <td>ANNUAL SUBSCRIPTION TO POLITICO PRO</td>\n",
       "      <td>True</td>\n",
       "      <td>9507</td>\n",
       "      <td>9523ZY21P0041</td>\n",
       "      <td>P00003</td>\n",
       "      <td>...</td>\n",
       "      <td>NaN</td>\n",
       "      <td>NaN</td>\n",
       "      <td>NaN</td>\n",
       "      <td>NaN</td>\n",
       "      <td>NaN</td>\n",
       "      <td>NaN</td>\n",
       "      <td>NaN</td>\n",
       "      <td>NaN</td>\n",
       "      <td>NaN</td>\n",
       "      <td>NaN</td>\n",
       "    </tr>\n",
       "    <tr>\n",
       "      <th>2</th>\n",
       "      <td>2</td>\n",
       "      <td>CONSUMER FINANCIAL PROTECTION BUREAU</td>\n",
       "      <td>2/11/2025</td>\n",
       "      <td>https://www.fpds.gov/ezsearch/jsp/viewLinkCont...</td>\n",
       "      <td>148350.0</td>\n",
       "      <td>BLOOMBERG TERMINALS</td>\n",
       "      <td>True</td>\n",
       "      <td>955F</td>\n",
       "      <td>9531CB24C0024</td>\n",
       "      <td>P00001</td>\n",
       "      <td>...</td>\n",
       "      <td>NaN</td>\n",
       "      <td>NaN</td>\n",
       "      <td>NaN</td>\n",
       "      <td>NaN</td>\n",
       "      <td>NaN</td>\n",
       "      <td>NaN</td>\n",
       "      <td>NaN</td>\n",
       "      <td>NaN</td>\n",
       "      <td>NaN</td>\n",
       "      <td>NaN</td>\n",
       "    </tr>\n",
       "    <tr>\n",
       "      <th>3</th>\n",
       "      <td>3</td>\n",
       "      <td>CONSUMER FINANCIAL PROTECTION BUREAU</td>\n",
       "      <td>2/11/2025</td>\n",
       "      <td>https://www.fpds.gov/ezsearch/jsp/viewLinkCont...</td>\n",
       "      <td>584172.0</td>\n",
       "      <td>BLOOMBERG GOVERNMENT SUBSCRIPTIONS</td>\n",
       "      <td>True</td>\n",
       "      <td>955F</td>\n",
       "      <td>9531CB23F0100</td>\n",
       "      <td>P00002</td>\n",
       "      <td>...</td>\n",
       "      <td>NaN</td>\n",
       "      <td>NaN</td>\n",
       "      <td>NaN</td>\n",
       "      <td>NaN</td>\n",
       "      <td>NaN</td>\n",
       "      <td>NaN</td>\n",
       "      <td>NaN</td>\n",
       "      <td>NaN</td>\n",
       "      <td>NaN</td>\n",
       "      <td>NaN</td>\n",
       "    </tr>\n",
       "    <tr>\n",
       "      <th>4</th>\n",
       "      <td>4</td>\n",
       "      <td>CONSUMER FINANCIAL PROTECTION BUREAU</td>\n",
       "      <td>2/11/2025</td>\n",
       "      <td>https://www.fpds.gov/ezsearch/jsp/viewLinkCont...</td>\n",
       "      <td>522660.0</td>\n",
       "      <td>POLITICO PRO</td>\n",
       "      <td>True</td>\n",
       "      <td>955F</td>\n",
       "      <td>9531CB25P0012</td>\n",
       "      <td>P00001</td>\n",
       "      <td>...</td>\n",
       "      <td>NaN</td>\n",
       "      <td>NaN</td>\n",
       "      <td>NaN</td>\n",
       "      <td>NaN</td>\n",
       "      <td>NaN</td>\n",
       "      <td>NaN</td>\n",
       "      <td>NaN</td>\n",
       "      <td>NaN</td>\n",
       "      <td>NaN</td>\n",
       "      <td>NaN</td>\n",
       "    </tr>\n",
       "  </tbody>\n",
       "</table>\n",
       "<p>5 rows × 160 columns</p>\n",
       "</div>"
      ],
      "text/plain": [
       "   Unnamed: 0                           Doge Agency Doge Upload Date  \\\n",
       "0           0  COMMODITY FUTURES TRADING COMMISSION        2/11/2025   \n",
       "1           1  COMMODITY FUTURES TRADING COMMISSION        2/13/2025   \n",
       "2           2  CONSUMER FINANCIAL PROTECTION BUREAU        2/11/2025   \n",
       "3           3  CONSUMER FINANCIAL PROTECTION BUREAU        2/11/2025   \n",
       "4           4  CONSUMER FINANCIAL PROTECTION BUREAU        2/11/2025   \n",
       "\n",
       "                                        Contract URL  Doge Value  \\\n",
       "0  https://www.fpds.gov/ezsearch/jsp/viewLinkCont...         0.0   \n",
       "1  https://www.fpds.gov/ezsearch/jsp/viewLinkCont...     60373.0   \n",
       "2  https://www.fpds.gov/ezsearch/jsp/viewLinkCont...    148350.0   \n",
       "3  https://www.fpds.gov/ezsearch/jsp/viewLinkCont...    584172.0   \n",
       "4  https://www.fpds.gov/ezsearch/jsp/viewLinkCont...    522660.0   \n",
       "\n",
       "                                           Doge Desc  Valid URL agencyID  \\\n",
       "0  RENEW WEST PRINT SUBSCRIPTIONS FOR VARIOUS LEG...       True     9507   \n",
       "1                ANNUAL SUBSCRIPTION TO POLITICO PRO       True     9507   \n",
       "2                                BLOOMBERG TERMINALS       True     955F   \n",
       "3                 BLOOMBERG GOVERNMENT SUBSCRIPTIONS       True     955F   \n",
       "4                                       POLITICO PRO       True     955F   \n",
       "\n",
       "            PIID modNumber  ...  emailAddress individualOrderLimit  \\\n",
       "0  9523ZY19F0048    P00001  ...           NaN                  NaN   \n",
       "1  9523ZY21P0041    P00003  ...           NaN                  NaN   \n",
       "2  9531CB24C0024    P00001  ...           NaN                  NaN   \n",
       "3  9531CB23F0100    P00002  ...           NaN                  NaN   \n",
       "4  9531CB25P0012    P00001  ...           NaN                  NaN   \n",
       "\n",
       "  fixedFeeValue feeRangeLowerValue feeRangeUpperValue orderingProcedure  \\\n",
       "0           NaN                NaN                NaN               NaN   \n",
       "1           NaN                NaN                NaN               NaN   \n",
       "2           NaN                NaN                NaN               NaN   \n",
       "3           NaN                NaN                NaN               NaN   \n",
       "4           NaN                NaN                NaN               NaN   \n",
       "\n",
       "   displayIDVType  typeOfIDC  multipleOrSingleAwardIDC whoCanUse  \n",
       "0             NaN        NaN                       NaN       NaN  \n",
       "1             NaN        NaN                       NaN       NaN  \n",
       "2             NaN        NaN                       NaN       NaN  \n",
       "3             NaN        NaN                       NaN       NaN  \n",
       "4             NaN        NaN                       NaN       NaN  \n",
       "\n",
       "[5 rows x 160 columns]"
      ]
     },
     "execution_count": 10,
     "metadata": {},
     "output_type": "execute_result"
    }
   ],
   "source": [
    "dat.head()"
   ]
  },
  {
   "cell_type": "code",
   "execution_count": 11,
   "id": "25d417c3-cb14-453c-8505-ccb1e1fac8fa",
   "metadata": {},
   "outputs": [],
   "source": [
    "# Helper function to cleanly print dollar figures.\n",
    "def format_as_money(amount: float) -> str:\n",
    "    \"\"\"Formats a float as a string representing money, \n",
    "    including commas and two decimal places.\"\"\"\n",
    "    return \"${:,.2f}\".format(amount)"
   ]
  },
  {
   "cell_type": "markdown",
   "id": "92b5310c-0e2e-4244-9282-f3c8506ec2d9",
   "metadata": {},
   "source": [
    "# Calculate DOGE claimed savings\n",
    "\n",
    "Looking only at the values posted on the \"Wall of Receipts\" , how much is being claimed in savings?"
   ]
  },
  {
   "cell_type": "code",
   "execution_count": 12,
   "id": "d92fe7f9-cfc5-425f-bc94-ac063a71995f",
   "metadata": {},
   "outputs": [
    {
     "name": "stdout",
     "output_type": "stream",
     "text": [
      "$7,186,461,223.00\n"
     ]
    }
   ],
   "source": [
    "NUM_CONTRACTS_TOTAL = len(dat)\n",
    "DOGE_CLAIMED_SAVINGS = sum(dat['Doge Value'])\n",
    "DOGE_CLAIMED_SAVINGS = format_as_money(DOGE_CLAIMED_SAVINGS)\n",
    "print(DOGE_CLAIMED_SAVINGS)"
   ]
  },
  {
   "cell_type": "markdown",
   "id": "80301fd1-c9d3-4245-8e79-78b0c5b6e231",
   "metadata": {},
   "source": [
    "# How much was saved by calculating the contract value minus money already spent on the contract\n",
    "\n",
    "The government cannot retrieve these costs. This is calculated by subtracting the base and all exercised options total from the total contract value."
   ]
  },
  {
   "cell_type": "markdown",
   "id": "614f2240-bcc2-4ac7-b892-317f9ffc7e5c",
   "metadata": {},
   "source": [
    "Negative exercised options - typically money going away from a contract\n",
    "If negative and greater than TCV, ignore it.\n",
    "\n"
   ]
  },
  {
   "cell_type": "code",
   "execution_count": 13,
   "id": "c90784b6-0a8c-4b20-9181-609340017b78",
   "metadata": {},
   "outputs": [
    {
     "data": {
      "text/plain": [
       "'$3,400,312,355.37'"
      ]
     },
     "execution_count": 13,
     "metadata": {},
     "output_type": "execute_result"
    }
   ],
   "source": [
    "def calculate_savings(row):\n",
    "    tcv = row['totalUltimateContractValue']\n",
    "    spent = row['totalBaseAndExercisedOptionsValue']\n",
    "    return tcv - spent\n",
    "\n",
    "dat['maximumSavingsRealized'] = dat.apply(lambda row: calculate_savings(row), axis=1)\n",
    "\n",
    "\n",
    "MAX_SAVINGS_ACTUALS = (sum(dat['maximumSavingsRealized']))\n",
    "MAX_SAVINGS_ACTUALS = format_as_money(MAX_SAVINGS_ACTUALS)\n",
    "MAX_SAVINGS_ACTUALS"
   ]
  },
  {
   "cell_type": "code",
   "execution_count": null,
   "id": "d24e8cc8-7327-41c7-85a7-405ab48998a7",
   "metadata": {},
   "outputs": [],
   "source": []
  },
  {
   "cell_type": "code",
   "execution_count": null,
   "id": "0a75ea88-e026-428d-a018-26fab7edb6ae",
   "metadata": {},
   "outputs": [],
   "source": []
  },
  {
   "cell_type": "markdown",
   "id": "ddc16194-5435-46c5-876a-068761036880",
   "metadata": {},
   "source": [
    "# Filter out rows that were modified before the inaguration date.\n",
    "\n",
    "DOGE cannot claim savings from contracts that were last actioned prior to Donald Trump's election, as DOGE did not exist."
   ]
  },
  {
   "cell_type": "code",
   "execution_count": 8,
   "id": "0505fd8f-ed59-446d-9777-26034d24f164",
   "metadata": {},
   "outputs": [
    {
     "data": {
      "text/plain": [
       "'$1,491,315,208.41'"
      ]
     },
     "execution_count": 8,
     "metadata": {},
     "output_type": "execute_result"
    }
   ],
   "source": [
    "dat['displayLastModifiedDate'] = pd.to_datetime(dat['displayLastModifiedDate'], format=\"%m/%d/%Y %H:%M:%S\")\n",
    "\n",
    "inaguration = pd.to_datetime(\"1/20/2025\")\n",
    "not_cancelled = dat[dat['displayLastModifiedDate'] < inaguration]\n",
    "dat = dat[dat['displayLastModifiedDate'] >= inaguration]\n",
    "\n",
    "NUM_CONTRACTS_AFTER_INAGURATION = len(dat)\n",
    "MAX_SAVINGS_ACTUALS_AFTER_INAGURATION = sum(dat['maximumSavingsRealized'])\n",
    "MAX_SAVINGS_ACTUALS_AFTER_INAGURATION = format_as_money(MAX_SAVINGS_ACTUALS_AFTER_INAGURATION)\n",
    "MAX_SAVINGS_ACTUALS_AFTER_INAGURATION"
   ]
  },
  {
   "cell_type": "code",
   "execution_count": 16,
   "id": "e1f52bdb-0394-4d63-b0e6-2bec9bcc7cdc",
   "metadata": {},
   "outputs": [],
   "source": [
    "not_cancelled[['PIID', 'Contract URL', 'displayLastModifiedDate']].to_csv(\"modified_before_inaguration.csv\")"
   ]
  },
  {
   "cell_type": "code",
   "execution_count": 69,
   "id": "68b2ef47-6ac5-44cd-9532-628212545852",
   "metadata": {},
   "outputs": [
    {
     "data": {
      "text/plain": [
       "'$1,405,030,139.76'"
      ]
     },
     "execution_count": 69,
     "metadata": {},
     "output_type": "execute_result"
    }
   ],
   "source": [
    "impossible_savings_statuses = [\n",
    "    \"Exercise an Option\",\n",
    "    \"Supplemental Agreement for work within scope\",\n",
    "    \"Additional Work (New Agreement, Justification Required\"\n",
    "]\n",
    "\n",
    "def natural_closeout(closeOutDate, awardCompletionDate):\n",
    "    return (closeOutDate >= awardCompletionDate)\n",
    "\n",
    "\n",
    "dat = dat[~dat['reasonForModification'].isin(impossible_savings_statuses)]\n",
    "\n",
    "dat['isNaturalCloseOut'] = dat.apply(lambda row: natural_closeout(\n",
    "    pd.to_datetime(row['displayClosedDate'], format=\"%m/%d/%Y %H:%M:%S\"),\n",
    "    pd.to_datetime(row['awardCompletionDate'], format=\"%m/%d/%Y\")), axis=1)\n",
    "\n",
    "dat = dat[~(dat['reasonForModification'] == \"Close Out\") & (dat[\"isNaturalCloseOut\"] == False)]\n",
    "\n",
    "NUM_VALID_CANCELLATIONS = len(dat)\n",
    "NUM_SAVINGS_VALID_CANCELLATIONS = sum(dat['maximumSavingsRealized'])\n",
    "NUM_SAVINGS_VALID_CANCELLATIONS = format_as_money(NUM_SAVINGS_VALID_CANCELLATIONS)\n",
    "NUM_SAVINGS_VALID_CANCELLATIONS"
   ]
  },
  {
   "cell_type": "code",
   "execution_count": 70,
   "id": "c77cada0-c8d0-4b7a-806d-85ce8ee0af28",
   "metadata": {},
   "outputs": [],
   "source": [
    "rows = [\n",
    "    {\n",
    "        \"Category\": \"DOGE's claimed savings in cancelled contracts\",\n",
    "        \"Value of Savings\": DOGE_CLAIMED_SAVINGS,\n",
    "        \"Number of Contracts\": NUM_CONTRACTS_TOTAL,\n",
    "        \"Notes\": \"Sum of all the values on doge.gov 'Savings' tab on 2/22/2025\"\n",
    "    },\n",
    "        {\n",
    "        \"Category\": \"After calculating actual savings\",\n",
    "        \"Value of Savings\": MAX_SAVINGS_ACTUALS,\n",
    "        \"Number of Contracts\": NUM_CONTRACTS_TOTAL,\n",
    "        \"Notes\": \"\"\n",
    "    },\n",
    "        {\n",
    "        \"Category\": \"After removing contracts that haven't changed since inaguration\",\n",
    "        \"Value of Savings\": MAX_SAVINGS_ACTUALS_AFTER_INAGURATION,\n",
    "        \"Number of Contracts\": NUM_CONTRACTS_AFTER_INAGURATION,\n",
    "        \"Notes\": \"\"\n",
    "    },\n",
    "        {\n",
    "        \"Category\": \"After removing contracts that were not actually cancelled\",\n",
    "        \"Value of Savings\": NUM_SAVINGS_VALID_CANCELLATIONS,\n",
    "        \"Number of Contracts\": NUM_VALID_CANCELLATIONS,\n",
    "        \"Notes\": \"\"\n",
    "    }\n",
    "]\n",
    "\n",
    "summary = pd.DataFrame(rows)\n",
    "summary.to_excel(\"savings_funnel.xlsx\")"
   ]
  }
 ],
 "metadata": {
  "kernelspec": {
   "display_name": "Python 3 (ipykernel)",
   "language": "python",
   "name": "python3"
  },
  "language_info": {
   "codemirror_mode": {
    "name": "ipython",
    "version": 3
   },
   "file_extension": ".py",
   "mimetype": "text/x-python",
   "name": "python",
   "nbconvert_exporter": "python",
   "pygments_lexer": "ipython3",
   "version": "3.10.4"
  }
 },
 "nbformat": 4,
 "nbformat_minor": 5
}
